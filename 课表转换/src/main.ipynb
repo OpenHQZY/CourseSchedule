{
 "cells": [
  {
   "cell_type": "code",
   "metadata": {
    "collapsed": true,
    "ExecuteTime": {
     "end_time": "2024-08-29T19:14:03.969157Z",
     "start_time": "2024-08-29T19:14:03.961965Z"
    }
   },
   "source": [
    "import numpy as np\n",
    "import pandas as pd\n",
    "import re\n",
    "import pickle\n",
    "import openpyxl"
   ],
   "outputs": [],
   "execution_count": 9
  },
  {
   "cell_type": "code",
   "source": "df = pd.read_excel('2024-2.xlsx', index_col=0)",
   "metadata": {
    "collapsed": false,
    "ExecuteTime": {
     "end_time": "2024-08-29T19:14:04.346370Z",
     "start_time": "2024-08-29T19:14:03.970740Z"
    }
   },
   "outputs": [],
   "execution_count": 10
  },
  {
   "cell_type": "code",
   "source": [
    "def remove_repeat_value(repeat_value: str, ls: list):\n",
    "    # 将重复值替换为上一个出现的有用值\n",
    "    columns = []\n",
    "    for i in ls:\n",
    "        if repeat_value in str(i):\n",
    "            tmp_ls = ls.copy()\n",
    "            tmp_ls.reverse()\n",
    "            tmp_ls = tmp_ls[tmp_ls.index(i):]\n",
    "            for x in tmp_ls:\n",
    "                if repeat_value not in str(x):\n",
    "                    columns.append(x)\n",
    "                    break\n",
    "        else:\n",
    "            columns.append(i)\n",
    "    return columns\n",
    "df.columns = remove_repeat_value('Unnamed',list(df.columns))\n",
    "df.index = ['课节'] + list(df.index[1:])"
   ],
   "metadata": {
    "collapsed": false,
    "ExecuteTime": {
     "end_time": "2024-08-29T19:14:04.361004Z",
     "start_time": "2024-08-29T19:14:04.356311Z"
    }
   },
   "outputs": [],
   "execution_count": 11
  },
  {
   "cell_type": "code",
   "source": [
    "not_nan_index = []\n",
    "reversed_index = list(df.index)\n",
    "reversed_index.reverse()\n",
    "len_index = len(df.index)\n",
    "for n,i in enumerate(df.index.isna()):\n",
    "    if i:\n",
    "        for x in reversed_index[len_index-n:]:\n",
    "            if str(x) != 'nan':\n",
    "                not_nan_index.append(x)\n",
    "                break\n",
    "    else:\n",
    "        not_nan_index.append(df.index[n])\n",
    "df.index = not_nan_index"
   ],
   "metadata": {
    "collapsed": false,
    "ExecuteTime": {
     "end_time": "2024-08-29T19:14:04.374960Z",
     "start_time": "2024-08-29T19:14:04.369177Z"
    }
   },
   "outputs": [],
   "execution_count": 12
  },
  {
   "cell_type": "code",
   "source": [
    "class Clazz:\n",
    "    # 班级\n",
    "    def __init__(self):\n",
    "        self.class_name = None\n",
    "\n",
    "        # 每天\n",
    "        self.day_1 = []\n",
    "        self.day_2 = []\n",
    "        self.day_3 = []\n",
    "        self.day_4 = []\n",
    "        self.day_5 = []\n",
    "        self.day_6 = []\n",
    "        self.day_7 = []\n",
    "        self.days = [self.day_1,self.day_2,self.day_3,self.day_4,self.day_5,self.day_6,self.day_7]\n",
    "\n",
    "class Course:\n",
    "    # 课程\n",
    "    def __init__(self):\n",
    "        self.course_name = ''\n",
    "        self.id = 0\n",
    "        # 开始周\n",
    "        self.start_week = 0\n",
    "        # 结束周\n",
    "        self.endWeek = 0\n",
    "        # 上课地点\n",
    "        self.room = ''\n",
    "        # 开始节\n",
    "        self.start_node = 0\n",
    "        # 结束\n",
    "        self.step = 0\n",
    "        # 认可老师\n",
    "        self.teacher = 0\n",
    "        self.day = 0"
   ],
   "metadata": {
    "collapsed": false,
    "ExecuteTime": {
     "end_time": "2024-08-29T19:14:04.387489Z",
     "start_time": "2024-08-29T19:14:04.383120Z"
    }
   },
   "outputs": [],
   "execution_count": 13
  },
  {
   "cell_type": "code",
   "source": [
    "def parsing_course(text: str):\n",
    "    # 解析课程\n",
    "    # 电子线路辅助设计 令狐昌伟 [2-3,6-17]周 1-4节 汽车楼536嵌入式实训室 本部(东校区） 54\n",
    "    # 课程名称    任课老师    周数    节数    地址\n",
    "    text = text.split(' ')\n",
    "    while True:\n",
    "        if ']周' not in text[2]:\n",
    "            text[1] = text[1] + text[2]\n",
    "            text.pop(2)\n",
    "        else:\n",
    "            break\n",
    "    weeks = []\n",
    "    if text[2].count(',') != 0:\n",
    "        text[2] = text[2].split(',')\n",
    "        for i in text[2]:\n",
    "            if '-' in i:\n",
    "                i = i.split('-')\n",
    "                weeks.append([i[0], i[1]])\n",
    "            else:\n",
    "                weeks.append([i])\n",
    "    else:\n",
    "        if '-' in text[2]:\n",
    "            text[2] = text[2].split('-')\n",
    "            weeks.append([text[2][0], text[2][1]])\n",
    "        else:\n",
    "            weeks.append([text[2]])\n",
    "\n",
    "    weeks = list(map(lambda x: list(map(lambda x2: int(x2.replace('[', '').replace(']','').replace('周', '')), x)), weeks))\n",
    "\n",
    "    courses = []\n",
    "    for i in weeks:\n",
    "        course = Course()\n",
    "        # 开始周\n",
    "        course.start_week = i[0]\n",
    "        # 结束周\n",
    "        if len(i) == 1:\n",
    "            course.endWeek = i[0]\n",
    "        else:\n",
    "            course.endWeek = i[1]\n",
    "        # 课程名称\n",
    "        course.course_name = text[0]\n",
    "        # 任课老师\n",
    "        course.teacher = text[1]\n",
    "        # 开始节\n",
    "        course.start_node = int(text[3].split('-')[0])\n",
    "        # 结束节\n",
    "        course.step = int(text[3].split('-')[1].replace('节', ''))\n",
    "        course.step = course.step - course.start_node\n",
    "        # room\n",
    "        course.room = text[4]\n",
    "        courses.append(course)\n",
    "    return courses\n",
    "\n",
    "\n"
   ],
   "metadata": {
    "collapsed": false,
    "ExecuteTime": {
     "end_time": "2024-08-29T19:14:04.403295Z",
     "start_time": "2024-08-29T19:14:04.397321Z"
    }
   },
   "outputs": [],
   "execution_count": 14
  },
  {
   "cell_type": "code",
   "source": [
    "# 创建班级类\n",
    "classes = dict()\n",
    "for i in list(df.iterrows())[1:]:\n",
    "    clazzname = re.match('.*\\(', i[0]).group()[:-1]\n",
    "    if not classes.get(clazzname, False):\n",
    "        classes[clazzname] = Clazz()\n",
    "    classes[clazzname].class_name =clazzname\n",
    "\n",
    "    for x in set(list(i[1]['星期一'])):\n",
    "        if str(x) != 'nan':\n",
    "            classes[clazzname].day_1 += parsing_course(x)\n",
    "    for x in set(list(i[1]['星期二'])):\n",
    "        if str(x) != 'nan':\n",
    "            classes[clazzname].day_2 += parsing_course(x)\n",
    "    for x in set(list(i[1]['星期三'])):\n",
    "        if str(x) != 'nan':\n",
    "            classes[clazzname].day_3 += parsing_course(x)\n",
    "    for x in set(list(i[1]['星期四'])):\n",
    "        if str(x) != 'nan':\n",
    "            classes[clazzname].day_4 += parsing_course(x)\n",
    "    for x in set(list(i[1]['星期五'])):\n",
    "        if str(x) != 'nan':\n",
    "            classes[clazzname].day_5 += parsing_course(x)\n",
    "    for x in set(list(i[1]['星期六'])):\n",
    "        if str(x) != 'nan':\n",
    "            classes[clazzname].day_6 += parsing_course(x)\n",
    "    for x in set(list(i[1]['星期日'])):\n",
    "        if str(x) != 'nan':\n",
    "            classes[clazzname].day_7 += parsing_course(x)\n"
   ],
   "metadata": {
    "collapsed": false,
    "ExecuteTime": {
     "end_time": "2024-08-29T19:14:04.808314Z",
     "start_time": "2024-08-29T19:14:04.411950Z"
    }
   },
   "outputs": [
    {
     "name": "stderr",
     "output_type": "stream",
     "text": [
      "<>:4: SyntaxWarning: invalid escape sequence '\\('\n",
      "<>:4: SyntaxWarning: invalid escape sequence '\\('\n",
      "C:\\Users\\d5v\\AppData\\Local\\Temp\\ipykernel_15140\\2667215760.py:4: SyntaxWarning: invalid escape sequence '\\('\n",
      "  clazzname = re.match('.*\\(', i[0]).group()[:-1]\n"
     ]
    }
   ],
   "execution_count": 15
  },
  {
   "cell_type": "code",
   "source": [
    "with open('classes', 'wb') as f:\n",
    "    f.write(pickle.dumps(classes))"
   ],
   "metadata": {
    "collapsed": false,
    "ExecuteTime": {
     "end_time": "2024-08-29T19:14:04.833944Z",
     "start_time": "2024-08-29T19:14:04.816742Z"
    }
   },
   "outputs": [],
   "execution_count": 16
  },
  {
   "metadata": {
    "ExecuteTime": {
     "end_time": "2024-08-29T19:14:04.846127Z",
     "start_time": "2024-08-29T19:14:04.842515Z"
    }
   },
   "cell_type": "code",
   "source": "",
   "outputs": [],
   "execution_count": null
  }
 ],
 "metadata": {
  "kernelspec": {
   "display_name": "Python 3",
   "language": "python",
   "name": "python3"
  },
  "language_info": {
   "codemirror_mode": {
    "name": "ipython",
    "version": 2
   },
   "file_extension": ".py",
   "mimetype": "text/x-python",
   "name": "python",
   "nbconvert_exporter": "python",
   "pygments_lexer": "ipython2",
   "version": "2.7.6"
  }
 },
 "nbformat": 4,
 "nbformat_minor": 0
}
